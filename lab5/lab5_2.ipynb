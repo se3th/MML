{
 "cells": [
  {
   "cell_type": "markdown",
   "metadata": {},
   "source": [
    "## Задание\n",
    "* Выберите набор данных (датасет) для решения задачи классификации или регрессии.\n",
    "* В случае необходимости проведите удаление или заполнение пропусков и кодирование категориальных признаков.\n",
    "* С использованием метода train_test_split разделите выборку на обучающую и тестовую.\n",
    "* Обучите следующие модели:\n",
    "* * одну из линейных моделей;\n",
    "* * SVM;\n",
    "* * дерево решений.\n",
    "* Оцените качество моделей с помощью трех подходящих для задачи метрик. Сравните качество полученных моделей.\n",
    "* Произведите для каждой модели подбор одного гиперпараметра с использованием GridSearchCV и кросс-валидации.\n",
    "* Повторите пункт 4 для найденных оптимальных значений гиперпараметров. Сравните качество полученных моделей с качеством моделей, полученных в пункте 4."
   ]
  },
  {
   "cell_type": "code",
   "execution_count": 1,
   "metadata": {},
   "outputs": [],
   "source": [
    "import numpy as np\n",
    "import pandas as pd\n",
    "import seaborn as sns\n",
    "import matplotlib.pyplot as plt\n",
    "from sklearn import preprocessing, svm\n",
    "from sklearn import model_selection\n",
    "from sklearn.model_selection import train_test_split\n",
    "from sklearn.linear_model import BayesianRidge\n",
    "from sklearn.tree import DecisionTreeClassifier, DecisionTreeRegressor, export_graphviz\n",
    "from sklearn.metrics import r2_score\n",
    "%matplotlib inline \n",
    "sns.set(style=\"ticks\")\n",
    "\n",
    "import warnings\n",
    "warnings.filterwarnings('ignore')"
   ]
  },
  {
   "cell_type": "code",
   "execution_count": 2,
   "metadata": {},
   "outputs": [],
   "source": [
    "data = pd.read_csv(\"data/Admission_Predict_Ver1.1.csv\")"
   ]
  },
  {
   "cell_type": "code",
   "execution_count": 3,
   "metadata": {},
   "outputs": [
    {
     "data": {
      "text/html": [
       "<div>\n",
       "<style scoped>\n",
       "    .dataframe tbody tr th:only-of-type {\n",
       "        vertical-align: middle;\n",
       "    }\n",
       "\n",
       "    .dataframe tbody tr th {\n",
       "        vertical-align: top;\n",
       "    }\n",
       "\n",
       "    .dataframe thead th {\n",
       "        text-align: right;\n",
       "    }\n",
       "</style>\n",
       "<table border=\"1\" class=\"dataframe\">\n",
       "  <thead>\n",
       "    <tr style=\"text-align: right;\">\n",
       "      <th></th>\n",
       "      <th>Serial No.</th>\n",
       "      <th>GRE Score</th>\n",
       "      <th>TOEFL Score</th>\n",
       "      <th>University Rating</th>\n",
       "      <th>SOP</th>\n",
       "      <th>LOR</th>\n",
       "      <th>CGPA</th>\n",
       "      <th>Research</th>\n",
       "      <th>Chance of Admit</th>\n",
       "    </tr>\n",
       "  </thead>\n",
       "  <tbody>\n",
       "    <tr>\n",
       "      <th>0</th>\n",
       "      <td>1</td>\n",
       "      <td>337</td>\n",
       "      <td>118</td>\n",
       "      <td>4</td>\n",
       "      <td>4.5</td>\n",
       "      <td>4.5</td>\n",
       "      <td>9.65</td>\n",
       "      <td>1</td>\n",
       "      <td>0.92</td>\n",
       "    </tr>\n",
       "    <tr>\n",
       "      <th>1</th>\n",
       "      <td>2</td>\n",
       "      <td>324</td>\n",
       "      <td>107</td>\n",
       "      <td>4</td>\n",
       "      <td>4.0</td>\n",
       "      <td>4.5</td>\n",
       "      <td>8.87</td>\n",
       "      <td>1</td>\n",
       "      <td>0.76</td>\n",
       "    </tr>\n",
       "  </tbody>\n",
       "</table>\n",
       "</div>"
      ],
      "text/plain": [
       "   Serial No.  GRE Score  TOEFL Score  University Rating  SOP  LOR   CGPA  \\\n",
       "0           1        337          118                  4  4.5   4.5  9.65   \n",
       "1           2        324          107                  4  4.0   4.5  8.87   \n",
       "\n",
       "   Research  Chance of Admit   \n",
       "0         1              0.92  \n",
       "1         1              0.76  "
      ]
     },
     "execution_count": 3,
     "metadata": {},
     "output_type": "execute_result"
    }
   ],
   "source": [
    "data.head(2)"
   ]
  },
  {
   "cell_type": "code",
   "execution_count": 4,
   "metadata": {},
   "outputs": [
    {
     "data": {
      "text/html": [
       "<div>\n",
       "<style scoped>\n",
       "    .dataframe tbody tr th:only-of-type {\n",
       "        vertical-align: middle;\n",
       "    }\n",
       "\n",
       "    .dataframe tbody tr th {\n",
       "        vertical-align: top;\n",
       "    }\n",
       "\n",
       "    .dataframe thead th {\n",
       "        text-align: right;\n",
       "    }\n",
       "</style>\n",
       "<table border=\"1\" class=\"dataframe\">\n",
       "  <thead>\n",
       "    <tr style=\"text-align: right;\">\n",
       "      <th></th>\n",
       "      <th>Serial No.</th>\n",
       "      <th>GRE Score</th>\n",
       "      <th>TOEFL Score</th>\n",
       "      <th>University Rating</th>\n",
       "      <th>SOP</th>\n",
       "      <th>LOR</th>\n",
       "      <th>CGPA</th>\n",
       "      <th>Research</th>\n",
       "      <th>Chance of Admit</th>\n",
       "    </tr>\n",
       "  </thead>\n",
       "  <tbody>\n",
       "    <tr>\n",
       "      <th>count</th>\n",
       "      <td>500.000000</td>\n",
       "      <td>500.000000</td>\n",
       "      <td>500.000000</td>\n",
       "      <td>500.000000</td>\n",
       "      <td>500.000000</td>\n",
       "      <td>500.00000</td>\n",
       "      <td>500.000000</td>\n",
       "      <td>500.000000</td>\n",
       "      <td>500.00000</td>\n",
       "    </tr>\n",
       "    <tr>\n",
       "      <th>mean</th>\n",
       "      <td>250.500000</td>\n",
       "      <td>316.472000</td>\n",
       "      <td>107.192000</td>\n",
       "      <td>3.114000</td>\n",
       "      <td>3.374000</td>\n",
       "      <td>3.48400</td>\n",
       "      <td>8.576440</td>\n",
       "      <td>0.560000</td>\n",
       "      <td>0.72174</td>\n",
       "    </tr>\n",
       "    <tr>\n",
       "      <th>std</th>\n",
       "      <td>144.481833</td>\n",
       "      <td>11.295148</td>\n",
       "      <td>6.081868</td>\n",
       "      <td>1.143512</td>\n",
       "      <td>0.991004</td>\n",
       "      <td>0.92545</td>\n",
       "      <td>0.604813</td>\n",
       "      <td>0.496884</td>\n",
       "      <td>0.14114</td>\n",
       "    </tr>\n",
       "    <tr>\n",
       "      <th>min</th>\n",
       "      <td>1.000000</td>\n",
       "      <td>290.000000</td>\n",
       "      <td>92.000000</td>\n",
       "      <td>1.000000</td>\n",
       "      <td>1.000000</td>\n",
       "      <td>1.00000</td>\n",
       "      <td>6.800000</td>\n",
       "      <td>0.000000</td>\n",
       "      <td>0.34000</td>\n",
       "    </tr>\n",
       "    <tr>\n",
       "      <th>25%</th>\n",
       "      <td>125.750000</td>\n",
       "      <td>308.000000</td>\n",
       "      <td>103.000000</td>\n",
       "      <td>2.000000</td>\n",
       "      <td>2.500000</td>\n",
       "      <td>3.00000</td>\n",
       "      <td>8.127500</td>\n",
       "      <td>0.000000</td>\n",
       "      <td>0.63000</td>\n",
       "    </tr>\n",
       "    <tr>\n",
       "      <th>50%</th>\n",
       "      <td>250.500000</td>\n",
       "      <td>317.000000</td>\n",
       "      <td>107.000000</td>\n",
       "      <td>3.000000</td>\n",
       "      <td>3.500000</td>\n",
       "      <td>3.50000</td>\n",
       "      <td>8.560000</td>\n",
       "      <td>1.000000</td>\n",
       "      <td>0.72000</td>\n",
       "    </tr>\n",
       "    <tr>\n",
       "      <th>75%</th>\n",
       "      <td>375.250000</td>\n",
       "      <td>325.000000</td>\n",
       "      <td>112.000000</td>\n",
       "      <td>4.000000</td>\n",
       "      <td>4.000000</td>\n",
       "      <td>4.00000</td>\n",
       "      <td>9.040000</td>\n",
       "      <td>1.000000</td>\n",
       "      <td>0.82000</td>\n",
       "    </tr>\n",
       "    <tr>\n",
       "      <th>max</th>\n",
       "      <td>500.000000</td>\n",
       "      <td>340.000000</td>\n",
       "      <td>120.000000</td>\n",
       "      <td>5.000000</td>\n",
       "      <td>5.000000</td>\n",
       "      <td>5.00000</td>\n",
       "      <td>9.920000</td>\n",
       "      <td>1.000000</td>\n",
       "      <td>0.97000</td>\n",
       "    </tr>\n",
       "  </tbody>\n",
       "</table>\n",
       "</div>"
      ],
      "text/plain": [
       "       Serial No.   GRE Score  TOEFL Score  University Rating         SOP  \\\n",
       "count  500.000000  500.000000   500.000000         500.000000  500.000000   \n",
       "mean   250.500000  316.472000   107.192000           3.114000    3.374000   \n",
       "std    144.481833   11.295148     6.081868           1.143512    0.991004   \n",
       "min      1.000000  290.000000    92.000000           1.000000    1.000000   \n",
       "25%    125.750000  308.000000   103.000000           2.000000    2.500000   \n",
       "50%    250.500000  317.000000   107.000000           3.000000    3.500000   \n",
       "75%    375.250000  325.000000   112.000000           4.000000    4.000000   \n",
       "max    500.000000  340.000000   120.000000           5.000000    5.000000   \n",
       "\n",
       "            LOR         CGPA    Research  Chance of Admit   \n",
       "count  500.00000  500.000000  500.000000         500.00000  \n",
       "mean     3.48400    8.576440    0.560000           0.72174  \n",
       "std      0.92545    0.604813    0.496884           0.14114  \n",
       "min      1.00000    6.800000    0.000000           0.34000  \n",
       "25%      3.00000    8.127500    0.000000           0.63000  \n",
       "50%      3.50000    8.560000    1.000000           0.72000  \n",
       "75%      4.00000    9.040000    1.000000           0.82000  \n",
       "max      5.00000    9.920000    1.000000           0.97000  "
      ]
     },
     "execution_count": 4,
     "metadata": {},
     "output_type": "execute_result"
    }
   ],
   "source": [
    "data.describe()"
   ]
  },
  {
   "cell_type": "code",
   "execution_count": 5,
   "metadata": {
    "scrolled": true
   },
   "outputs": [
    {
     "name": "stdout",
     "output_type": "stream",
     "text": [
      "<class 'pandas.core.frame.DataFrame'>\n",
      "RangeIndex: 500 entries, 0 to 499\n",
      "Data columns (total 9 columns):\n",
      " #   Column             Non-Null Count  Dtype  \n",
      "---  ------             --------------  -----  \n",
      " 0   Serial No.         500 non-null    int64  \n",
      " 1   GRE Score          500 non-null    int64  \n",
      " 2   TOEFL Score        500 non-null    int64  \n",
      " 3   University Rating  500 non-null    int64  \n",
      " 4   SOP                500 non-null    float64\n",
      " 5   LOR                500 non-null    float64\n",
      " 6   CGPA               500 non-null    float64\n",
      " 7   Research           500 non-null    int64  \n",
      " 8   Chance of Admit    500 non-null    float64\n",
      "dtypes: float64(4), int64(5)\n",
      "memory usage: 35.3 KB\n"
     ]
    }
   ],
   "source": [
    "data.info()"
   ]
  },
  {
   "cell_type": "code",
   "execution_count": 6,
   "metadata": {},
   "outputs": [
    {
     "data": {
      "text/plain": [
       "Index(['Serial No.', 'GRE Score', 'TOEFL Score', 'University Rating', 'SOP',\n",
       "       'LOR ', 'CGPA', 'Research', 'Chance of Admit '],\n",
       "      dtype='object')"
      ]
     },
     "execution_count": 6,
     "metadata": {},
     "output_type": "execute_result"
    }
   ],
   "source": [
    "data.columns"
   ]
  },
  {
   "cell_type": "code",
   "execution_count": 7,
   "metadata": {
    "scrolled": true
   },
   "outputs": [
    {
     "data": {
      "text/html": [
       "<div>\n",
       "<style scoped>\n",
       "    .dataframe tbody tr th:only-of-type {\n",
       "        vertical-align: middle;\n",
       "    }\n",
       "\n",
       "    .dataframe tbody tr th {\n",
       "        vertical-align: top;\n",
       "    }\n",
       "\n",
       "    .dataframe thead th {\n",
       "        text-align: right;\n",
       "    }\n",
       "</style>\n",
       "<table border=\"1\" class=\"dataframe\">\n",
       "  <thead>\n",
       "    <tr style=\"text-align: right;\">\n",
       "      <th></th>\n",
       "      <th>Serial No.</th>\n",
       "      <th>GRE Score</th>\n",
       "      <th>TOEFL Score</th>\n",
       "      <th>University Rating</th>\n",
       "      <th>SOP</th>\n",
       "      <th>LOR</th>\n",
       "      <th>CGPA</th>\n",
       "      <th>Research</th>\n",
       "      <th>Chance of Admit</th>\n",
       "    </tr>\n",
       "  </thead>\n",
       "  <tbody>\n",
       "    <tr>\n",
       "      <th>Serial No.</th>\n",
       "      <td>1.000000</td>\n",
       "      <td>-0.103839</td>\n",
       "      <td>-0.141696</td>\n",
       "      <td>-0.067641</td>\n",
       "      <td>-0.137352</td>\n",
       "      <td>-0.003694</td>\n",
       "      <td>-0.074289</td>\n",
       "      <td>-0.005332</td>\n",
       "      <td>0.008505</td>\n",
       "    </tr>\n",
       "    <tr>\n",
       "      <th>GRE Score</th>\n",
       "      <td>-0.103839</td>\n",
       "      <td>1.000000</td>\n",
       "      <td>0.827200</td>\n",
       "      <td>0.635376</td>\n",
       "      <td>0.613498</td>\n",
       "      <td>0.524679</td>\n",
       "      <td>0.825878</td>\n",
       "      <td>0.563398</td>\n",
       "      <td>0.810351</td>\n",
       "    </tr>\n",
       "    <tr>\n",
       "      <th>TOEFL Score</th>\n",
       "      <td>-0.141696</td>\n",
       "      <td>0.827200</td>\n",
       "      <td>1.000000</td>\n",
       "      <td>0.649799</td>\n",
       "      <td>0.644410</td>\n",
       "      <td>0.541563</td>\n",
       "      <td>0.810574</td>\n",
       "      <td>0.467012</td>\n",
       "      <td>0.792228</td>\n",
       "    </tr>\n",
       "    <tr>\n",
       "      <th>University Rating</th>\n",
       "      <td>-0.067641</td>\n",
       "      <td>0.635376</td>\n",
       "      <td>0.649799</td>\n",
       "      <td>1.000000</td>\n",
       "      <td>0.728024</td>\n",
       "      <td>0.608651</td>\n",
       "      <td>0.705254</td>\n",
       "      <td>0.427047</td>\n",
       "      <td>0.690132</td>\n",
       "    </tr>\n",
       "    <tr>\n",
       "      <th>SOP</th>\n",
       "      <td>-0.137352</td>\n",
       "      <td>0.613498</td>\n",
       "      <td>0.644410</td>\n",
       "      <td>0.728024</td>\n",
       "      <td>1.000000</td>\n",
       "      <td>0.663707</td>\n",
       "      <td>0.712154</td>\n",
       "      <td>0.408116</td>\n",
       "      <td>0.684137</td>\n",
       "    </tr>\n",
       "    <tr>\n",
       "      <th>LOR</th>\n",
       "      <td>-0.003694</td>\n",
       "      <td>0.524679</td>\n",
       "      <td>0.541563</td>\n",
       "      <td>0.608651</td>\n",
       "      <td>0.663707</td>\n",
       "      <td>1.000000</td>\n",
       "      <td>0.637469</td>\n",
       "      <td>0.372526</td>\n",
       "      <td>0.645365</td>\n",
       "    </tr>\n",
       "    <tr>\n",
       "      <th>CGPA</th>\n",
       "      <td>-0.074289</td>\n",
       "      <td>0.825878</td>\n",
       "      <td>0.810574</td>\n",
       "      <td>0.705254</td>\n",
       "      <td>0.712154</td>\n",
       "      <td>0.637469</td>\n",
       "      <td>1.000000</td>\n",
       "      <td>0.501311</td>\n",
       "      <td>0.882413</td>\n",
       "    </tr>\n",
       "    <tr>\n",
       "      <th>Research</th>\n",
       "      <td>-0.005332</td>\n",
       "      <td>0.563398</td>\n",
       "      <td>0.467012</td>\n",
       "      <td>0.427047</td>\n",
       "      <td>0.408116</td>\n",
       "      <td>0.372526</td>\n",
       "      <td>0.501311</td>\n",
       "      <td>1.000000</td>\n",
       "      <td>0.545871</td>\n",
       "    </tr>\n",
       "    <tr>\n",
       "      <th>Chance of Admit</th>\n",
       "      <td>0.008505</td>\n",
       "      <td>0.810351</td>\n",
       "      <td>0.792228</td>\n",
       "      <td>0.690132</td>\n",
       "      <td>0.684137</td>\n",
       "      <td>0.645365</td>\n",
       "      <td>0.882413</td>\n",
       "      <td>0.545871</td>\n",
       "      <td>1.000000</td>\n",
       "    </tr>\n",
       "  </tbody>\n",
       "</table>\n",
       "</div>"
      ],
      "text/plain": [
       "                   Serial No.  GRE Score  TOEFL Score  University Rating  \\\n",
       "Serial No.           1.000000  -0.103839    -0.141696          -0.067641   \n",
       "GRE Score           -0.103839   1.000000     0.827200           0.635376   \n",
       "TOEFL Score         -0.141696   0.827200     1.000000           0.649799   \n",
       "University Rating   -0.067641   0.635376     0.649799           1.000000   \n",
       "SOP                 -0.137352   0.613498     0.644410           0.728024   \n",
       "LOR                 -0.003694   0.524679     0.541563           0.608651   \n",
       "CGPA                -0.074289   0.825878     0.810574           0.705254   \n",
       "Research            -0.005332   0.563398     0.467012           0.427047   \n",
       "Chance of Admit      0.008505   0.810351     0.792228           0.690132   \n",
       "\n",
       "                        SOP      LOR       CGPA  Research  Chance of Admit   \n",
       "Serial No.        -0.137352 -0.003694 -0.074289 -0.005332          0.008505  \n",
       "GRE Score          0.613498  0.524679  0.825878  0.563398          0.810351  \n",
       "TOEFL Score        0.644410  0.541563  0.810574  0.467012          0.792228  \n",
       "University Rating  0.728024  0.608651  0.705254  0.427047          0.690132  \n",
       "SOP                1.000000  0.663707  0.712154  0.408116          0.684137  \n",
       "LOR                0.663707  1.000000  0.637469  0.372526          0.645365  \n",
       "CGPA               0.712154  0.637469  1.000000  0.501311          0.882413  \n",
       "Research           0.408116  0.372526  0.501311  1.000000          0.545871  \n",
       "Chance of Admit    0.684137  0.645365  0.882413  0.545871          1.000000  "
      ]
     },
     "execution_count": 7,
     "metadata": {},
     "output_type": "execute_result"
    }
   ],
   "source": [
    "corr = data.corr()\n",
    "data.corr()"
   ]
  },
  {
   "cell_type": "code",
   "execution_count": 8,
   "metadata": {
    "scrolled": true
   },
   "outputs": [
    {
     "data": {
      "text/plain": [
       "<matplotlib.axes._subplots.AxesSubplot at 0x17de383b588>"
      ]
     },
     "execution_count": 8,
     "metadata": {},
     "output_type": "execute_result"
    },
    {
     "data": {
      "image/png": "[encoded data removed]",
      "text/plain": [
       "<Figure size 432x288 with 2 Axes>"
      ]
     },
     "metadata": {},
     "output_type": "display_data"
    }
   ],
   "source": [
    "sns.heatmap(corr, \n",
    "        xticklabels=corr.columns,\n",
    "        yticklabels=corr.columns,\n",
    "           cmap='YlGnBu')"
   ]
  },
  {
   "cell_type": "markdown",
   "metadata": {},
   "source": [
    "## Между CGPA и Chance of Admit есть корреляция 0.88"
   ]
  },
  {
   "cell_type": "code",
   "execution_count": 10,
   "metadata": {},
   "outputs": [
    {
     "data": {
      "text/plain": [
       "-1.0433288693280354"
      ]
     },
     "execution_count": 10,
     "metadata": {},
     "output_type": "execute_result"
    }
   ],
   "source": [
    "x = data[\"CGPA\"].values\n",
    "y = data[\"Chance of Admit \"].values\n",
    "\n",
    "reg = BayesianRidge(fit_intercept=True).fit(x.reshape(-1, 1), y.reshape(-1, 1))\n",
    "reg.coef_\n",
    "reg.intercept_"
   ]
  },
  {
   "cell_type": "code",
   "execution_count": 12,
   "metadata": {},
   "outputs": [],
   "source": [
    "def func(w, b, x):\n",
    "    return w*x + b"
   ]
  },
  {
   "cell_type": "code",
   "execution_count": 17,
   "metadata": {},
   "outputs": [],
   "source": [
    "x_t = list(range(6, 12))\n",
    "y_t = [func(reg.coef_[0], reg.intercept_, x) for x in x_t]\n",
    "y_tt = reg.predict(x.reshape(-1, 1))"
   ]
  },
  {
   "cell_type": "code",
   "execution_count": 18,
   "metadata": {},
   "outputs": [
    {
     "data": {
      "image/png": "[encoded data removed]",
      "text/plain": [
       "<Figure size 432x288 with 1 Axes>"
      ]
     },
     "metadata": {},
     "output_type": "display_data"
    }
   ],
   "source": [
    "plt.plot(x, y, 'g.')\n",
    "plt.plot(x_t, y_t, 'b', linewidth=2.0)\n",
    "plt.show()"
   ]
  },
  {
   "cell_type": "markdown",
   "metadata": {},
   "source": [
    "### Модель линейной регрессии дала неплохой результат"
   ]
  },
  {
   "cell_type": "markdown",
   "metadata": {},
   "source": [
    "## SVM"
   ]
  },
  {
   "cell_type": "code",
   "execution_count": 19,
   "metadata": {},
   "outputs": [],
   "source": [
    "from sklearn.svm import SVC, NuSVC, LinearSVC, OneClassSVM, SVR, NuSVR, LinearSVR"
   ]
  },
  {
   "cell_type": "code",
   "execution_count": 20,
   "metadata": {},
   "outputs": [
    {
     "data": {
      "text/plain": [
       "[<matplotlib.lines.Line2D at 0x17de5c3fb38>]"
      ]
     },
     "execution_count": 20,
     "metadata": {},
     "output_type": "execute_result"
    },
    {
     "data": {
      "image/png": "[encoded data removed]",
      "text/plain": [
       "<Figure size 432x288 with 1 Axes>"
      ]
     },
     "metadata": {},
     "output_type": "display_data"
    }
   ],
   "source": [
    "lin_SVR = LinearSVR(C=1.0, max_iter=10000)\n",
    "lin_SVR.fit(x.reshape(-1, 1), y)\n",
    "predict = lin_SVR.predict(x.reshape(-1, 1))\n",
    "plt.plot(x, y, 'g.')\n",
    "plt.plot(x, predict, 'ro')"
   ]
  },
  {
   "cell_type": "markdown",
   "metadata": {},
   "source": [
    "## Деревья решений"
   ]
  },
  {
   "cell_type": "code",
   "execution_count": 27,
   "metadata": {
    "scrolled": true
   },
   "outputs": [
    {
     "data": {
      "text/plain": [
       "DecisionTreeRegressor(max_depth=2, random_state=1)"
      ]
     },
     "execution_count": 27,
     "metadata": {},
     "output_type": "execute_result"
    }
   ],
   "source": [
    "dec_tree = DecisionTreeRegressor(random_state=1, max_depth=2)\n",
    "dec_tree.fit(data, data[\"Chance of Admit \"])\n",
    "dec_tree\n"
   ]
  },
  {
   "cell_type": "code",
   "execution_count": 28,
   "metadata": {},
   "outputs": [],
   "source": [
    "dec_predict = dec_tree.predict(data)"
   ]
  },
  {
   "cell_type": "code",
   "execution_count": 29,
   "metadata": {
    "scrolled": false
   },
   "outputs": [
    {
     "data": {
      "text/plain": [
       "[Text(167.4, 181.2, 'X[8] <= 0.715\\nmse = 0.02\\nsamples = 500\\nvalue = 0.722'),\n",
       " Text(83.7, 108.72, 'X[8] <= 0.575\\nmse = 0.008\\nsamples = 236\\nvalue = 0.601'),\n",
       " Text(41.85, 36.23999999999998, 'mse = 0.004\\nsamples = 80\\nvalue = 0.495'),\n",
       " Text(125.55000000000001, 36.23999999999998, 'mse = 0.002\\nsamples = 156\\nvalue = 0.656'),\n",
       " Text(251.10000000000002, 108.72, 'X[8] <= 0.835\\nmse = 0.006\\nsamples = 264\\nvalue = 0.83'),\n",
       " Text(209.25, 36.23999999999998, 'mse = 0.001\\nsamples = 144\\nvalue = 0.768'),\n",
       " Text(292.95, 36.23999999999998, 'mse = 0.001\\nsamples = 120\\nvalue = 0.903')]"
      ]
     },
     "execution_count": 29,
     "metadata": {},
     "output_type": "execute_result"
    },
    {
     "data": {
      "image/png": "[encoded data removed]",
      "text/plain": [
       "<Figure size 432x288 with 1 Axes>"
      ]
     },
     "metadata": {},
     "output_type": "display_data"
    }
   ],
   "source": [
    "from sklearn import tree\n",
    "tree.plot_tree(dec_tree, filled=True)"
   ]
  },
  {
   "cell_type": "markdown",
   "metadata": {},
   "source": [
    "## Метрики качества"
   ]
  },
  {
   "cell_type": "code",
   "execution_count": 30,
   "metadata": {},
   "outputs": [
    {
     "name": "stdout",
     "output_type": "stream",
     "text": [
      "Метрики для линейной модели:\n",
      "\n",
      "Средняя абсолютная ошибка:  0.048356176421919375\n",
      "Средняя квадратичная ошибка:  0.004400575179962326\n",
      "Коэффициент детерминации:  0.77865169967127\n",
      "\n",
      "\n",
      "Метрики для SVM-модели:\n",
      "\n",
      "Средняя абсолютная ошибка:  0.048000840719299075\n",
      "Средняя квадратичная ошибка:  0.004531621770186015\n",
      "Коэффициент детерминации:  0.7720600749804865\n",
      "\n",
      "\n",
      "Метрики для Decision Tree:\n",
      "\n",
      "Средняя абсолютная ошибка:  0.03497883333333334\n",
      "Средняя квадратичная ошибка:  0.0017660232051282055\n",
      "Коэффициент детерминации:  0.9111692861023747\n"
     ]
    }
   ],
   "source": [
    "from sklearn.metrics import mean_absolute_error, mean_squared_error, mean_squared_log_error, median_absolute_error, r2_score \n",
    "\n",
    "print(\"Метрики для линейной модели:\\n\")\n",
    "print(\"Средняя абсолютная ошибка: \", mean_absolute_error(y, y_tt))\n",
    "print(\"Средняя квадратичная ошибка: \", mean_squared_error(y, y_tt))\n",
    "print(\"Коэффициент детерминации: \", r2_score(y, y_tt))\n",
    "\n",
    "print(\"\\n\\nМетрики для SVM-модели:\\n\")\n",
    "print(\"Средняя абсолютная ошибка: \", mean_absolute_error(y, predict))\n",
    "print(\"Средняя квадратичная ошибка: \", mean_squared_error(y, predict))\n",
    "print(\"Коэффициент детерминации: \", r2_score(y, predict))\n",
    "\n",
    "\n",
    "print(\"\\n\\nМетрики для Decision Tree:\\n\")\n",
    "print(\"Средняя абсолютная ошибка: \", mean_absolute_error(y, dec_predict))\n",
    "print(\"Средняя квадратичная ошибка: \", mean_squared_error(y, dec_predict))\n",
    "print(\"Коэффициент детерминации: \", r2_score(y, dec_predict))"
   ]
  },
  {
   "cell_type": "markdown",
   "metadata": {},
   "source": [
    "## Подбор гиперпараметров. Кросс-валидация"
   ]
  },
  {
   "cell_type": "code",
   "execution_count": 31,
   "metadata": {},
   "outputs": [],
   "source": [
    "from sklearn.model_selection import cross_validate"
   ]
  },
  {
   "cell_type": "code",
   "execution_count": 32,
   "metadata": {},
   "outputs": [],
   "source": [
    "scoring = {'mean': 'neg_mean_absolute_error', 'square': 'neg_mean_squared_error', 'r2': 'r2'}"
   ]
  },
  {
   "cell_type": "code",
   "execution_count": 33,
   "metadata": {},
   "outputs": [
    {
     "data": {
      "text/plain": [
       "{'fit_time': array([0.00099945, 0.00099969, 0.0019958 ]),\n",
       " 'score_time': array([0.0019989 , 0.00200224, 0.00099802]),\n",
       " 'test_mean': array([-0.06390867, -0.04166959, -0.0434577 ]),\n",
       " 'test_square': array([-0.00805285, -0.00264878, -0.00341377]),\n",
       " 'test_r2': array([0.69147165, 0.77100056, 0.83635644])}"
      ]
     },
     "execution_count": 33,
     "metadata": {},
     "output_type": "execute_result"
    }
   ],
   "source": [
    "scores_regr = cross_validate(BayesianRidge(fit_intercept=True), \n",
    "                         x.reshape(-1, 1), y, cv=3, scoring=scoring)\n",
    "scores_regr"
   ]
  },
  {
   "cell_type": "code",
   "execution_count": 34,
   "metadata": {},
   "outputs": [
    {
     "data": {
      "text/plain": [
       "{'fit_time': array([0.04097629, 0.0369761 , 0.03497982]),\n",
       " 'score_time': array([0.00100136, 0.00101209, 0.00099945]),\n",
       " 'test_mean': array([-0.06527236, -0.03968679, -0.04267425]),\n",
       " 'test_square': array([-0.00838947, -0.00241486, -0.00330504]),\n",
       " 'test_r2': array([0.67857482, 0.79122418, 0.84156854])}"
      ]
     },
     "execution_count": 34,
     "metadata": {},
     "output_type": "execute_result"
    }
   ],
   "source": [
    "scores_svm = cross_validate(LinearSVR(C=1.0, max_iter=10000), \n",
    "                         x.reshape(-1, 1), y, cv=3, scoring=scoring)\n",
    "scores_svm"
   ]
  },
  {
   "cell_type": "code",
   "execution_count": 36,
   "metadata": {},
   "outputs": [
    {
     "data": {
      "text/plain": [
       "{'fit_time': array([0.00599432, 0.00499773, 0.00599909, 0.00599551, 0.00599694]),\n",
       " 'score_time': array([0.00599647, 0.00499654, 0.0070045 , 0.00299644, 0.00499654]),\n",
       " 'test_mean': array([-0.01947024, -0.01658337, -0.01743311, -0.01960369, -0.01780489]),\n",
       " 'test_square': array([-0.00070725, -0.00038489, -0.00040677, -0.00058168, -0.00045542]),\n",
       " 'test_r2': array([0.97674954, 0.97437313, 0.96746869, 0.96943965, 0.97486837])}"
      ]
     },
     "execution_count": 36,
     "metadata": {},
     "output_type": "execute_result"
    }
   ],
   "source": [
    "scores_dec = cross_validate(DecisionTreeRegressor(random_state=1, max_depth=3), \n",
    "                         data, data[\"Chance of Admit \"], cv=5, scoring=scoring)\n",
    "scores_dec"
   ]
  },
  {
   "cell_type": "code",
   "execution_count": 37,
   "metadata": {},
   "outputs": [
    {
     "name": "stdout",
     "output_type": "stream",
     "text": [
      "Метрики для линейной модели:\n",
      "\n",
      "Средняя абсолютная ошибка:  -0.049678655143161145\n",
      "Средняя квадратичная ошибка:  -0.004705132163926633\n",
      "Коэффициент детерминации:  0.7662762176604807\n",
      "\n",
      "\n",
      "Метрики для SVM-модели:\n",
      "\n",
      "Средняя абсолютная ошибка:  -0.04921113136081001\n",
      "Средняя квадратичная ошибка:  -0.0047031212018939636\n",
      "Коэффициент детерминации:  0.7704558470118542\n",
      "\n",
      "\n",
      "Метрики для Decision Tree:\n",
      "\n",
      "Средняя абсолютная ошибка:  -0.018179061248257487\n",
      "Средняя квадратичная ошибка:  -0.0005072017860681037\n",
      "Коэффициент детерминации:  0.9725798741030808\n"
     ]
    }
   ],
   "source": [
    "print(\"Метрики для линейной модели:\\n\")\n",
    "print(\"Средняя абсолютная ошибка: \", np.mean(scores_regr['test_mean']))\n",
    "print(\"Средняя квадратичная ошибка: \", np.mean(scores_regr['test_square']))\n",
    "print(\"Коэффициент детерминации: \", np.mean(scores_regr['test_r2']))\n",
    "\n",
    "print(\"\\n\\nМетрики для SVM-модели:\\n\")\n",
    "print(\"Средняя абсолютная ошибка: \", np.mean(scores_svm['test_mean']))\n",
    "print(\"Средняя квадратичная ошибка: \", np.mean(scores_svm['test_square']))\n",
    "print(\"Коэффициент детерминации: \", np.mean(scores_svm['test_r2']))\n",
    "\n",
    "\n",
    "print(\"\\n\\nМетрики для Decision Tree:\\n\")\n",
    "print(\"Средняя абсолютная ошибка: \", np.mean(scores_dec['test_mean']))\n",
    "print(\"Средняя квадратичная ошибка: \", np.mean(scores_dec['test_square']))\n",
    "print(\"Коэффициент детерминации: \", np.mean(scores_dec['test_r2']))"
   ]
  },
  {
   "cell_type": "markdown",
   "metadata": {},
   "source": [
    "## Оптимизация с помощью решетчатого поиска"
   ]
  },
  {
   "cell_type": "code",
   "execution_count": 38,
   "metadata": {},
   "outputs": [],
   "source": [
    "from sklearn.model_selection import GridSearchCV"
   ]
  },
  {
   "cell_type": "code",
   "execution_count": 39,
   "metadata": {},
   "outputs": [
    {
     "data": {
      "text/plain": [
       "[{'max_depth': array([1, 2, 3, 4, 5, 6, 7, 8, 9])}]"
      ]
     },
     "execution_count": 39,
     "metadata": {},
     "output_type": "execute_result"
    }
   ],
   "source": [
    "n_range = np.array(range(1,10,1))\n",
    "tuned_parameters = [{'max_depth': n_range}]\n",
    "tuned_parameters"
   ]
  },
  {
   "cell_type": "code",
   "execution_count": 40,
   "metadata": {},
   "outputs": [
    {
     "name": "stdout",
     "output_type": "stream",
     "text": [
      "Wall time: 97 ms\n"
     ]
    },
    {
     "data": {
      "text/plain": [
       "GridSearchCV(cv=5, estimator=DecisionTreeRegressor(),\n",
       "             param_grid=[{'max_depth': array([1, 2, 3, 4, 5, 6, 7, 8, 9])}],\n",
       "             scoring='r2')"
      ]
     },
     "execution_count": 40,
     "metadata": {},
     "output_type": "execute_result"
    }
   ],
   "source": [
    "%%time\n",
    "clf_gs = GridSearchCV(DecisionTreeRegressor(), tuned_parameters, cv=5, scoring='r2')\n",
    "clf_gs.fit(x.reshape(-1, 1), y)"
   ]
  },
  {
   "cell_type": "code",
   "execution_count": 41,
   "metadata": {},
   "outputs": [
    {
     "data": {
      "text/plain": [
       "DecisionTreeRegressor(max_depth=4)"
      ]
     },
     "execution_count": 41,
     "metadata": {},
     "output_type": "execute_result"
    }
   ],
   "source": [
    "# Лучшая модель\n",
    "clf_gs.best_estimator_"
   ]
  },
  {
   "cell_type": "code",
   "execution_count": 42,
   "metadata": {},
   "outputs": [
    {
     "data": {
      "text/plain": [
       "0.7749073093532586"
      ]
     },
     "execution_count": 42,
     "metadata": {},
     "output_type": "execute_result"
    }
   ],
   "source": [
    "clf_gs.best_score_"
   ]
  },
  {
   "cell_type": "code",
   "execution_count": 43,
   "metadata": {},
   "outputs": [
    {
     "data": {
      "text/plain": [
       "{'max_depth': 4}"
      ]
     },
     "execution_count": 43,
     "metadata": {},
     "output_type": "execute_result"
    }
   ],
   "source": [
    "clf_gs.best_params_"
   ]
  },
  {
   "cell_type": "code",
   "execution_count": 44,
   "metadata": {},
   "outputs": [
    {
     "data": {
      "text/plain": [
       "[<matplotlib.lines.Line2D at 0x17de5da9ef0>]"
      ]
     },
     "execution_count": 44,
     "metadata": {},
     "output_type": "execute_result"
    },
    {
     "data": {
      "image/png": "[encoded data removed]",
      "text/plain": [
       "<Figure size 432x288 with 1 Axes>"
      ]
     },
     "metadata": {},
     "output_type": "display_data"
    }
   ],
   "source": [
    "plt.plot(n_range, clf_gs.cv_results_['mean_test_score'])"
   ]
  },
  {
   "cell_type": "markdown",
   "metadata": {},
   "source": [
    "### Оптимизация SVM"
   ]
  },
  {
   "cell_type": "code",
   "execution_count": 45,
   "metadata": {},
   "outputs": [],
   "source": [
    "param_grid = {'C': [0.1,1, 10, 100], 'epsilon': [0.1, 0.2, 0.3, 0.4, 0.5, 0.6, 0.7, 0.8, 0.9, 1.0]}"
   ]
  },
  {
   "cell_type": "code",
   "execution_count": 46,
   "metadata": {},
   "outputs": [
    {
     "name": "stdout",
     "output_type": "stream",
     "text": [
      "Fitting 5 folds for each of 40 candidates, totalling 200 fits\n",
      "[CV] C=0.1, epsilon=0.1 ..............................................\n",
      "[CV] ............................... C=0.1, epsilon=0.1, total=   0.0s\n",
      "[CV] C=0.1, epsilon=0.1 ..............................................\n",
      "[CV] ............................... C=0.1, epsilon=0.1, total=   0.0s\n",
      "[CV] C=0.1, epsilon=0.1 ..............................................\n",
      "[CV] ............................... C=0.1, epsilon=0.1, total=   0.0s\n",
      "[CV] C=0.1, epsilon=0.1 ..............................................\n",
      "[CV] ............................... C=0.1, epsilon=0.1, total=   0.0s\n",
      "[CV] C=0.1, epsilon=0.1 ..............................................\n",
      "[CV] ............................... C=0.1, epsilon=0.1, total=   0.0s\n",
      "[CV] C=0.1, epsilon=0.2 ..............................................\n",
      "[CV] ............................... C=0.1, epsilon=0.2, total=   0.0s\n",
      "[CV] C=0.1, epsilon=0.2 ..............................................\n",
      "[CV] ............................... C=0.1, epsilon=0.2, total=   0.0s\n",
      "[CV] C=0.1, epsilon=0.2 ..............................................\n",
      "[CV] ............................... C=0.1, epsilon=0.2, total=   0.0s\n",
      "[CV] C=0.1, epsilon=0.2 ..............................................\n",
      "[CV] ............................... C=0.1, epsilon=0.2, total=   0.0s\n",
      "[CV] C=0.1, epsilon=0.2 ..............................................\n",
      "[CV] ............................... C=0.1, epsilon=0.2, total=   0.0s\n",
      "[CV] C=0.1, epsilon=0.3 ..............................................\n",
      "[CV] ............................... C=0.1, epsilon=0.3, total=   0.0s\n",
      "[CV] C=0.1, epsilon=0.3 ..............................................\n",
      "[CV] ............................... C=0.1, epsilon=0.3, total=   0.0s\n",
      "[CV] C=0.1, epsilon=0.3 ..............................................\n",
      "[CV] ............................... C=0.1, epsilon=0.3, total=   0.0s\n",
      "[CV] C=0.1, epsilon=0.3 ..............................................\n",
      "[CV] ............................... C=0.1, epsilon=0.3, total=   0.0s\n",
      "[CV] C=0.1, epsilon=0.3 ..............................................\n",
      "[CV] ............................... C=0.1, epsilon=0.3, total=   0.0s\n",
      "[CV] C=0.1, epsilon=0.4 ..............................................\n",
      "[CV] ............................... C=0.1, epsilon=0.4, total=   0.0s\n",
      "[CV] C=0.1, epsilon=0.4 ..............................................\n",
      "[CV] ............................... C=0.1, epsilon=0.4, total=   0.0s\n",
      "[CV] C=0.1, epsilon=0.4 ..............................................\n",
      "[CV] ............................... C=0.1, epsilon=0.4, total=   0.0s\n",
      "[CV] C=0.1, epsilon=0.4 ..............................................\n",
      "[CV] ............................... C=0.1, epsilon=0.4, total=   0.0s\n",
      "[CV] C=0.1, epsilon=0.4 ..............................................\n",
      "[CV] ............................... C=0.1, epsilon=0.4, total=   0.0s\n",
      "[CV] C=0.1, epsilon=0.5 ..............................................\n",
      "[CV] ............................... C=0.1, epsilon=0.5, total=   0.0s\n",
      "[CV] C=0.1, epsilon=0.5 ..............................................\n",
      "[CV] ............................... C=0.1, epsilon=0.5, total=   0.0s\n",
      "[CV] C=0.1, epsilon=0.5 ..............................................\n",
      "[CV] ............................... C=0.1, epsilon=0.5, total=   0.0s\n",
      "[CV] C=0.1, epsilon=0.5 ..............................................\n",
      "[CV] ............................... C=0.1, epsilon=0.5, total=   0.0s\n",
      "[CV] C=0.1, epsilon=0.5 ..............................................\n",
      "[CV] ............................... C=0.1, epsilon=0.5, total=   0.0s\n",
      "[CV] C=0.1, epsilon=0.6 ..............................................\n",
      "[CV] ............................... C=0.1, epsilon=0.6, total=   0.0s\n",
      "[CV] C=0.1, epsilon=0.6 ..............................................\n",
      "[CV] ............................... C=0.1, epsilon=0.6, total=   0.0s\n",
      "[CV] C=0.1, epsilon=0.6 ..............................................\n",
      "[CV] ............................... C=0.1, epsilon=0.6, total=   0.0s\n",
      "[CV] C=0.1, epsilon=0.6 ..............................................\n",
      "[CV] ............................... C=0.1, epsilon=0.6, total=   0.0s\n",
      "[CV] C=0.1, epsilon=0.6 ..............................................\n",
      "[CV] ............................... C=0.1, epsilon=0.6, total=   0.0s\n",
      "[CV] C=0.1, epsilon=0.7 ..............................................\n",
      "[CV] ............................... C=0.1, epsilon=0.7, total=   0.0s\n",
      "[CV] C=0.1, epsilon=0.7 ..............................................\n",
      "[CV] ............................... C=0.1, epsilon=0.7, total=   0.0s\n",
      "[CV] C=0.1, epsilon=0.7 ..............................................\n",
      "[CV] ............................... C=0.1, epsilon=0.7, total=   0.0s\n",
      "[CV] C=0.1, epsilon=0.7 ..............................................\n",
      "[CV] ............................... C=0.1, epsilon=0.7, total=   0.0s\n",
      "[CV] C=0.1, epsilon=0.7 ..............................................\n",
      "[CV] ............................... C=0.1, epsilon=0.7, total=   0.0s\n",
      "[CV] C=0.1, epsilon=0.8 ..............................................\n",
      "[CV] ............................... C=0.1, epsilon=0.8, total=   0.0s\n",
      "[CV] C=0.1, epsilon=0.8 ..............................................\n",
      "[CV] ............................... C=0.1, epsilon=0.8, total=   0.0s\n",
      "[CV] C=0.1, epsilon=0.8 ..............................................\n",
      "[CV] ............................... C=0.1, epsilon=0.8, total=   0.0s\n",
      "[CV] C=0.1, epsilon=0.8 ..............................................\n",
      "[CV] ............................... C=0.1, epsilon=0.8, total=   0.0s\n",
      "[CV] C=0.1, epsilon=0.8 ..............................................\n",
      "[CV] ............................... C=0.1, epsilon=0.8, total=   0.0s\n",
      "[CV] C=0.1, epsilon=0.9 ..............................................\n",
      "[CV] ............................... C=0.1, epsilon=0.9, total=   0.0s\n",
      "[CV] C=0.1, epsilon=0.9 ..............................................\n",
      "[CV] ............................... C=0.1, epsilon=0.9, total=   0.0s\n",
      "[CV] C=0.1, epsilon=0.9 ..............................................\n",
      "[CV] ............................... C=0.1, epsilon=0.9, total=   0.0s\n",
      "[CV] C=0.1, epsilon=0.9 ..............................................\n",
      "[CV] ............................... C=0.1, epsilon=0.9, total=   0.0s\n",
      "[CV] C=0.1, epsilon=0.9 ..............................................\n",
      "[CV] ............................... C=0.1, epsilon=0.9, total=   0.0s\n",
      "[CV] C=0.1, epsilon=1.0 ..............................................\n",
      "[CV] ............................... C=0.1, epsilon=1.0, total=   0.0s\n",
      "[CV] C=0.1, epsilon=1.0 ..............................................\n",
      "[CV] ............................... C=0.1, epsilon=1.0, total=   0.0s\n",
      "[CV] C=0.1, epsilon=1.0 ..............................................\n",
      "[CV] ............................... C=0.1, epsilon=1.0, total=   0.0s\n",
      "[CV] C=0.1, epsilon=1.0 ..............................................\n",
      "[CV] ............................... C=0.1, epsilon=1.0, total=   0.0s\n",
      "[CV] C=0.1, epsilon=1.0 ..............................................\n",
      "[CV] ............................... C=0.1, epsilon=1.0, total=   0.0s\n",
      "[CV] C=1, epsilon=0.1 ................................................\n",
      "[CV] ................................. C=1, epsilon=0.1, total=   0.0s\n",
      "[CV] C=1, epsilon=0.1 ................................................\n",
      "[CV] ................................. C=1, epsilon=0.1, total=   0.0s\n",
      "[CV] C=1, epsilon=0.1 ................................................\n",
      "[CV] ................................. C=1, epsilon=0.1, total=   0.0s\n",
      "[CV] C=1, epsilon=0.1 ................................................\n",
      "[CV] ................................. C=1, epsilon=0.1, total=   0.0s\n",
      "[CV] C=1, epsilon=0.1 ................................................\n",
      "[CV] ................................. C=1, epsilon=0.1, total=   0.0s"
     ]
    },
    {
     "name": "stderr",
     "output_type": "stream",
     "text": [
      "[Parallel(n_jobs=1)]: Using backend SequentialBackend with 1 concurrent workers.\n",
      "[Parallel(n_jobs=1)]: Done   1 out of   1 | elapsed:    0.0s remaining:    0.0s\n"
     ]
    },
    {
     "name": "stdout",
     "output_type": "stream",
     "text": [
      "\n",
      "[CV] C=1, epsilon=0.2 ................................................\n",
      "[CV] ................................. C=1, epsilon=0.2, total=   0.0s\n",
      "[CV] C=1, epsilon=0.2 ................................................\n",
      "[CV] ................................. C=1, epsilon=0.2, total=   0.0s\n",
      "[CV] C=1, epsilon=0.2 ................................................\n",
      "[CV] ................................. C=1, epsilon=0.2, total=   0.0s\n",
      "[CV] C=1, epsilon=0.2 ................................................\n",
      "[CV] ................................. C=1, epsilon=0.2, total=   0.0s\n",
      "[CV] C=1, epsilon=0.2 ................................................\n",
      "[CV] ................................. C=1, epsilon=0.2, total=   0.0s\n",
      "[CV] C=1, epsilon=0.3 ................................................\n",
      "[CV] ................................. C=1, epsilon=0.3, total=   0.0s\n",
      "[CV] C=1, epsilon=0.3 ................................................\n",
      "[CV] ................................. C=1, epsilon=0.3, total=   0.0s\n",
      "[CV] C=1, epsilon=0.3 ................................................\n",
      "[CV] ................................. C=1, epsilon=0.3, total=   0.0s\n",
      "[CV] C=1, epsilon=0.3 ................................................\n",
      "[CV] ................................. C=1, epsilon=0.3, total=   0.0s\n",
      "[CV] C=1, epsilon=0.3 ................................................\n",
      "[CV] ................................. C=1, epsilon=0.3, total=   0.0s\n",
      "[CV] C=1, epsilon=0.4 ................................................\n",
      "[CV] ................................. C=1, epsilon=0.4, total=   0.0s\n",
      "[CV] C=1, epsilon=0.4 ................................................\n",
      "[CV] ................................. C=1, epsilon=0.4, total=   0.0s\n",
      "[CV] C=1, epsilon=0.4 ................................................\n",
      "[CV] ................................. C=1, epsilon=0.4, total=   0.0s\n",
      "[CV] C=1, epsilon=0.4 ................................................\n",
      "[CV] ................................. C=1, epsilon=0.4, total=   0.0s\n",
      "[CV] C=1, epsilon=0.4 ................................................\n",
      "[CV] ................................. C=1, epsilon=0.4, total=   0.0s\n",
      "[CV] C=1, epsilon=0.5 ................................................\n",
      "[CV] ................................. C=1, epsilon=0.5, total=   0.0s\n",
      "[CV] C=1, epsilon=0.5 ................................................\n",
      "[CV] ................................. C=1, epsilon=0.5, total=   0.0s\n",
      "[CV] C=1, epsilon=0.5 ................................................\n",
      "[CV] ................................. C=1, epsilon=0.5, total=   0.0s\n",
      "[CV] C=1, epsilon=0.5 ................................................\n",
      "[CV] ................................. C=1, epsilon=0.5, total=   0.0s\n",
      "[CV] C=1, epsilon=0.5 ................................................\n",
      "[CV] ................................. C=1, epsilon=0.5, total=   0.0s\n",
      "[CV] C=1, epsilon=0.6 ................................................\n",
      "[CV] ................................. C=1, epsilon=0.6, total=   0.0s\n",
      "[CV] C=1, epsilon=0.6 ................................................\n",
      "[CV] ................................. C=1, epsilon=0.6, total=   0.0s\n",
      "[CV] C=1, epsilon=0.6 ................................................\n",
      "[CV] ................................. C=1, epsilon=0.6, total=   0.0s\n",
      "[CV] C=1, epsilon=0.6 ................................................\n",
      "[CV] ................................. C=1, epsilon=0.6, total=   0.0s\n",
      "[CV] C=1, epsilon=0.6 ................................................\n",
      "[CV] ................................. C=1, epsilon=0.6, total=   0.0s\n",
      "[CV] C=1, epsilon=0.7 ................................................\n",
      "[CV] ................................. C=1, epsilon=0.7, total=   0.0s\n",
      "[CV] C=1, epsilon=0.7 ................................................\n",
      "[CV] ................................. C=1, epsilon=0.7, total=   0.0s\n",
      "[CV] C=1, epsilon=0.7 ................................................\n",
      "[CV] ................................. C=1, epsilon=0.7, total=   0.0s\n",
      "[CV] C=1, epsilon=0.7 ................................................\n",
      "[CV] ................................. C=1, epsilon=0.7, total=   0.0s\n",
      "[CV] C=1, epsilon=0.7 ................................................\n",
      "[CV] ................................. C=1, epsilon=0.7, total=   0.0s\n",
      "[CV] C=1, epsilon=0.8 ................................................\n",
      "[CV] ................................. C=1, epsilon=0.8, total=   0.0s\n",
      "[CV] C=1, epsilon=0.8 ................................................\n",
      "[CV] ................................. C=1, epsilon=0.8, total=   0.0s\n",
      "[CV] C=1, epsilon=0.8 ................................................\n",
      "[CV] ................................. C=1, epsilon=0.8, total=   0.0s\n",
      "[CV] C=1, epsilon=0.8 ................................................\n",
      "[CV] ................................. C=1, epsilon=0.8, total=   0.0s\n",
      "[CV] C=1, epsilon=0.8 ................................................\n",
      "[CV] ................................. C=1, epsilon=0.8, total=   0.0s\n",
      "[CV] C=1, epsilon=0.9 ................................................\n",
      "[CV] ................................. C=1, epsilon=0.9, total=   0.0s\n",
      "[CV] C=1, epsilon=0.9 ................................................\n",
      "[CV] ................................. C=1, epsilon=0.9, total=   0.0s\n",
      "[CV] C=1, epsilon=0.9 ................................................\n",
      "[CV] ................................. C=1, epsilon=0.9, total=   0.0s\n",
      "[CV] C=1, epsilon=0.9 ................................................\n",
      "[CV] ................................. C=1, epsilon=0.9, total=   0.0s\n",
      "[CV] C=1, epsilon=0.9 ................................................\n",
      "[CV] ................................. C=1, epsilon=0.9, total=   0.0s\n",
      "[CV] C=1, epsilon=1.0 ................................................\n",
      "[CV] ................................. C=1, epsilon=1.0, total=   0.0s\n",
      "[CV] C=1, epsilon=1.0 ................................................\n",
      "[CV] ................................. C=1, epsilon=1.0, total=   0.0s\n",
      "[CV] C=1, epsilon=1.0 ................................................\n",
      "[CV] ................................. C=1, epsilon=1.0, total=   0.0s\n",
      "[CV] C=1, epsilon=1.0 ................................................\n",
      "[CV] ................................. C=1, epsilon=1.0, total=   0.0s\n",
      "[CV] C=1, epsilon=1.0 ................................................\n",
      "[CV] ................................. C=1, epsilon=1.0, total=   0.0s\n",
      "[CV] C=10, epsilon=0.1 ...............................................\n",
      "[CV] ................................ C=10, epsilon=0.1, total=   0.0s\n",
      "[CV] C=10, epsilon=0.1 ...............................................\n",
      "[CV] ................................ C=10, epsilon=0.1, total=   0.0s\n",
      "[CV] C=10, epsilon=0.1 ...............................................\n",
      "[CV] ................................ C=10, epsilon=0.1, total=   0.0s\n",
      "[CV] C=10, epsilon=0.1 ...............................................\n",
      "[CV] ................................ C=10, epsilon=0.1, total=   0.0s\n",
      "[CV] C=10, epsilon=0.1 ...............................................\n",
      "[CV] ................................ C=10, epsilon=0.1, total=   0.0s\n",
      "[CV] C=10, epsilon=0.2 ...............................................\n",
      "[CV] ................................ C=10, epsilon=0.2, total=   0.0s\n",
      "[CV] C=10, epsilon=0.2 ...............................................\n",
      "[CV] ................................ C=10, epsilon=0.2, total=   0.0s\n",
      "[CV] C=10, epsilon=0.2 ...............................................\n",
      "[CV] ................................ C=10, epsilon=0.2, total=   0.0s\n",
      "[CV] C=10, epsilon=0.2 ...............................................\n",
      "[CV] ................................ C=10, epsilon=0.2, total=   0.0s\n",
      "[CV] C=10, epsilon=0.2 ...............................................\n",
      "[CV] ................................ C=10, epsilon=0.2, total=   0.0s\n",
      "[CV] C=10, epsilon=0.3 ...............................................\n",
      "[CV] ................................ C=10, epsilon=0.3, total=   0.0s\n",
      "[CV] C=10, epsilon=0.3 ...............................................\n",
      "[CV] ................................ C=10, epsilon=0.3, total=   0.0s\n",
      "[CV] C=10, epsilon=0.3 ...............................................\n",
      "[CV] ................................ C=10, epsilon=0.3, total=   0.0s\n",
      "[CV] C=10, epsilon=0.3 ...............................................\n",
      "[CV] ................................ C=10, epsilon=0.3, total=   0.0s\n",
      "[CV] C=10, epsilon=0.3 ...............................................\n",
      "[CV] ................................ C=10, epsilon=0.3, total=   0.0s\n",
      "[CV] C=10, epsilon=0.4 ...............................................\n",
      "[CV] ................................ C=10, epsilon=0.4, total=   0.0s\n",
      "[CV] C=10, epsilon=0.4 ...............................................\n",
      "[CV] ................................ C=10, epsilon=0.4, total=   0.0s\n",
      "[CV] C=10, epsilon=0.4 ...............................................\n",
      "[CV] ................................ C=10, epsilon=0.4, total=   0.0s\n",
      "[CV] C=10, epsilon=0.4 ...............................................\n",
      "[CV] ................................ C=10, epsilon=0.4, total=   0.0s\n",
      "[CV] C=10, epsilon=0.4 ...............................................\n",
      "[CV] ................................ C=10, epsilon=0.4, total=   0.0s\n",
      "[CV] C=10, epsilon=0.5 ...............................................\n",
      "[CV] ................................ C=10, epsilon=0.5, total=   0.0s\n",
      "[CV] C=10, epsilon=0.5 ...............................................\n",
      "[CV] ................................ C=10, epsilon=0.5, total=   0.0s\n",
      "[CV] C=10, epsilon=0.5 ...............................................\n",
      "[CV] ................................ C=10, epsilon=0.5, total=   0.0s\n",
      "[CV] C=10, epsilon=0.5 ...............................................\n",
      "[CV] ................................ C=10, epsilon=0.5, total=   0.0s\n",
      "[CV] C=10, epsilon=0.5 ...............................................\n",
      "[CV] ................................ C=10, epsilon=0.5, total=   0.0s\n",
      "[CV] C=10, epsilon=0.6 ...............................................\n",
      "[CV] ................................ C=10, epsilon=0.6, total=   0.0s\n",
      "[CV] C=10, epsilon=0.6 ...............................................\n",
      "[CV] ................................ C=10, epsilon=0.6, total=   0.0s\n",
      "[CV] C=10, epsilon=0.6 ...............................................\n",
      "[CV] ................................ C=10, epsilon=0.6, total=   0.0s\n",
      "[CV] C=10, epsilon=0.6 ...............................................\n",
      "[CV] ................................ C=10, epsilon=0.6, total=   0.0s\n",
      "[CV] C=10, epsilon=0.6 ...............................................\n",
      "[CV] ................................ C=10, epsilon=0.6, total=   0.0s\n",
      "[CV] C=10, epsilon=0.7 ...............................................\n",
      "[CV] ................................ C=10, epsilon=0.7, total=   0.0s\n",
      "[CV] C=10, epsilon=0.7 ...............................................\n",
      "[CV] ................................ C=10, epsilon=0.7, total=   0.0s\n",
      "[CV] C=10, epsilon=0.7 ...............................................\n",
      "[CV] ................................ C=10, epsilon=0.7, total=   0.0s\n",
      "[CV] C=10, epsilon=0.7 ...............................................\n",
      "[CV] ................................ C=10, epsilon=0.7, total=   0.0s\n",
      "[CV] C=10, epsilon=0.7 ...............................................\n",
      "[CV] ................................ C=10, epsilon=0.7, total=   0.0s\n",
      "[CV] C=10, epsilon=0.8 ...............................................\n",
      "[CV] ................................ C=10, epsilon=0.8, total=   0.0s\n",
      "[CV] C=10, epsilon=0.8 ...............................................\n",
      "[CV] ................................ C=10, epsilon=0.8, total=   0.0s\n",
      "[CV] C=10, epsilon=0.8 ...............................................\n",
      "[CV] ................................ C=10, epsilon=0.8, total=   0.0s\n",
      "[CV] C=10, epsilon=0.8 ...............................................\n",
      "[CV] ................................ C=10, epsilon=0.8, total=   0.0s\n",
      "[CV] C=10, epsilon=0.8 ...............................................\n",
      "[CV] ................................ C=10, epsilon=0.8, total=   0.0s\n",
      "[CV] C=10, epsilon=0.9 ...............................................\n",
      "[CV] ................................ C=10, epsilon=0.9, total=   0.0s\n",
      "[CV] C=10, epsilon=0.9 ...............................................\n",
      "[CV] ................................ C=10, epsilon=0.9, total=   0.0s\n",
      "[CV] C=10, epsilon=0.9 ...............................................\n",
      "[CV] ................................ C=10, epsilon=0.9, total=   0.0s\n",
      "[CV] C=10, epsilon=0.9 ...............................................\n",
      "[CV] ................................ C=10, epsilon=0.9, total=   0.0s\n",
      "[CV] C=10, epsilon=0.9 ...............................................\n",
      "[CV] ................................ C=10, epsilon=0.9, total=   0.0s\n",
      "[CV] C=10, epsilon=1.0 ...............................................\n",
      "[CV] ................................ C=10, epsilon=1.0, total=   0.0s\n",
      "[CV] C=10, epsilon=1.0 ...............................................\n",
      "[CV] ................................ C=10, epsilon=1.0, total=   0.0s\n",
      "[CV] C=10, epsilon=1.0 ...............................................\n",
      "[CV] ................................ C=10, epsilon=1.0, total=   0.0s\n",
      "[CV] C=10, epsilon=1.0 ...............................................\n",
      "[CV] ................................ C=10, epsilon=1.0, total=   0.0s\n",
      "[CV] C=10, epsilon=1.0 ...............................................\n",
      "[CV] ................................ C=10, epsilon=1.0, total=   0.0s\n",
      "[CV] C=100, epsilon=0.1 ..............................................\n",
      "[CV] ............................... C=100, epsilon=0.1, total=   0.0s\n",
      "[CV] C=100, epsilon=0.1 ..............................................\n"
     ]
    },
    {
     "name": "stdout",
     "output_type": "stream",
     "text": [
      "[CV] ............................... C=100, epsilon=0.1, total=   0.0s\n",
      "[CV] C=100, epsilon=0.1 ..............................................\n",
      "[CV] ............................... C=100, epsilon=0.1, total=   0.0s\n",
      "[CV] C=100, epsilon=0.1 ..............................................\n",
      "[CV] ............................... C=100, epsilon=0.1, total=   0.0s\n",
      "[CV] C=100, epsilon=0.1 ..............................................\n",
      "[CV] ............................... C=100, epsilon=0.1, total=   0.0s\n",
      "[CV] C=100, epsilon=0.2 ..............................................\n",
      "[CV] ............................... C=100, epsilon=0.2, total=   0.0s\n",
      "[CV] C=100, epsilon=0.2 ..............................................\n",
      "[CV] ............................... C=100, epsilon=0.2, total=   0.0s\n",
      "[CV] C=100, epsilon=0.2 ..............................................\n",
      "[CV] ............................... C=100, epsilon=0.2, total=   0.0s\n",
      "[CV] C=100, epsilon=0.2 ..............................................\n",
      "[CV] ............................... C=100, epsilon=0.2, total=   0.0s\n",
      "[CV] C=100, epsilon=0.2 ..............................................\n",
      "[CV] ............................... C=100, epsilon=0.2, total=   0.0s\n",
      "[CV] C=100, epsilon=0.3 ..............................................\n",
      "[CV] ............................... C=100, epsilon=0.3, total=   0.0s\n",
      "[CV] C=100, epsilon=0.3 ..............................................\n",
      "[CV] ............................... C=100, epsilon=0.3, total=   0.0s\n",
      "[CV] C=100, epsilon=0.3 ..............................................\n",
      "[CV] ............................... C=100, epsilon=0.3, total=   0.0s\n",
      "[CV] C=100, epsilon=0.3 ..............................................\n",
      "[CV] ............................... C=100, epsilon=0.3, total=   0.0s\n",
      "[CV] C=100, epsilon=0.3 ..............................................\n",
      "[CV] ............................... C=100, epsilon=0.3, total=   0.0s\n",
      "[CV] C=100, epsilon=0.4 ..............................................\n",
      "[CV] ............................... C=100, epsilon=0.4, total=   0.0s\n",
      "[CV] C=100, epsilon=0.4 ..............................................\n",
      "[CV] ............................... C=100, epsilon=0.4, total=   0.0s\n",
      "[CV] C=100, epsilon=0.4 ..............................................\n",
      "[CV] ............................... C=100, epsilon=0.4, total=   0.0s\n",
      "[CV] C=100, epsilon=0.4 ..............................................\n",
      "[CV] ............................... C=100, epsilon=0.4, total=   0.0s\n",
      "[CV] C=100, epsilon=0.4 ..............................................\n",
      "[CV] ............................... C=100, epsilon=0.4, total=   0.0s\n",
      "[CV] C=100, epsilon=0.5 ..............................................\n",
      "[CV] ............................... C=100, epsilon=0.5, total=   0.0s\n",
      "[CV] C=100, epsilon=0.5 ..............................................\n",
      "[CV] ............................... C=100, epsilon=0.5, total=   0.0s\n",
      "[CV] C=100, epsilon=0.5 ..............................................\n",
      "[CV] ............................... C=100, epsilon=0.5, total=   0.0s\n",
      "[CV] C=100, epsilon=0.5 ..............................................\n",
      "[CV] ............................... C=100, epsilon=0.5, total=   0.0s\n",
      "[CV] C=100, epsilon=0.5 ..............................................\n",
      "[CV] ............................... C=100, epsilon=0.5, total=   0.0s\n",
      "[CV] C=100, epsilon=0.6 ..............................................\n",
      "[CV] ............................... C=100, epsilon=0.6, total=   0.0s\n",
      "[CV] C=100, epsilon=0.6 ..............................................\n",
      "[CV] ............................... C=100, epsilon=0.6, total=   0.0s\n",
      "[CV] C=100, epsilon=0.6 ..............................................\n",
      "[CV] ............................... C=100, epsilon=0.6, total=   0.0s\n",
      "[CV] C=100, epsilon=0.6 ..............................................\n",
      "[CV] ............................... C=100, epsilon=0.6, total=   0.0s\n",
      "[CV] C=100, epsilon=0.6 ..............................................\n",
      "[CV] ............................... C=100, epsilon=0.6, total=   0.0s\n",
      "[CV] C=100, epsilon=0.7 ..............................................\n",
      "[CV] ............................... C=100, epsilon=0.7, total=   0.0s\n",
      "[CV] C=100, epsilon=0.7 ..............................................\n",
      "[CV] ............................... C=100, epsilon=0.7, total=   0.0s\n",
      "[CV] C=100, epsilon=0.7 ..............................................\n",
      "[CV] ............................... C=100, epsilon=0.7, total=   0.0s\n",
      "[CV] C=100, epsilon=0.7 ..............................................\n",
      "[CV] ............................... C=100, epsilon=0.7, total=   0.0s\n",
      "[CV] C=100, epsilon=0.7 ..............................................\n",
      "[CV] ............................... C=100, epsilon=0.7, total=   0.0s\n",
      "[CV] C=100, epsilon=0.8 ..............................................\n",
      "[CV] ............................... C=100, epsilon=0.8, total=   0.0s\n",
      "[CV] C=100, epsilon=0.8 ..............................................\n",
      "[CV] ............................... C=100, epsilon=0.8, total=   0.0s\n",
      "[CV] C=100, epsilon=0.8 ..............................................\n",
      "[CV] ............................... C=100, epsilon=0.8, total=   0.0s\n",
      "[CV] C=100, epsilon=0.8 ..............................................\n",
      "[CV] ............................... C=100, epsilon=0.8, total=   0.0s\n",
      "[CV] C=100, epsilon=0.8 ..............................................\n",
      "[CV] ............................... C=100, epsilon=0.8, total=   0.0s\n",
      "[CV] C=100, epsilon=0.9 ..............................................\n",
      "[CV] ............................... C=100, epsilon=0.9, total=   0.0s\n",
      "[CV] C=100, epsilon=0.9 ..............................................\n",
      "[CV] ............................... C=100, epsilon=0.9, total=   0.0s\n",
      "[CV] C=100, epsilon=0.9 ..............................................\n",
      "[CV] ............................... C=100, epsilon=0.9, total=   0.0s\n",
      "[CV] C=100, epsilon=0.9 ..............................................\n",
      "[CV] ............................... C=100, epsilon=0.9, total=   0.0s\n",
      "[CV] C=100, epsilon=0.9 ..............................................\n",
      "[CV] ............................... C=100, epsilon=0.9, total=   0.0s\n",
      "[CV] C=100, epsilon=1.0 ..............................................\n",
      "[CV] ............................... C=100, epsilon=1.0, total=   0.0s\n",
      "[CV] C=100, epsilon=1.0 ..............................................\n",
      "[CV] ............................... C=100, epsilon=1.0, total=   0.0s\n",
      "[CV] C=100, epsilon=1.0 ..............................................\n",
      "[CV] ............................... C=100, epsilon=1.0, total=   0.0s\n",
      "[CV] C=100, epsilon=1.0 ..............................................\n",
      "[CV] ............................... C=100, epsilon=1.0, total=   0.0s\n",
      "[CV] C=100, epsilon=1.0 ..............................................\n",
      "[CV] ............................... C=100, epsilon=1.0, total=   0.0s\n"
     ]
    },
    {
     "name": "stderr",
     "output_type": "stream",
     "text": [
      "[Parallel(n_jobs=1)]: Done 200 out of 200 | elapsed:    0.7s finished\n"
     ]
    },
    {
     "data": {
      "text/plain": [
       "GridSearchCV(estimator=LinearSVR(),\n",
       "             param_grid={'C': [0.1, 1, 10, 100],\n",
       "                         'epsilon': [0.1, 0.2, 0.3, 0.4, 0.5, 0.6, 0.7, 0.8,\n",
       "                                     0.9, 1.0]},\n",
       "             verbose=2)"
      ]
     },
     "execution_count": 46,
     "metadata": {},
     "output_type": "execute_result"
    }
   ],
   "source": [
    "grid = GridSearchCV(LinearSVR(),param_grid,refit=True,verbose=2)\n",
    "grid.fit(x.reshape(-1, 1),y)"
   ]
  },
  {
   "cell_type": "code",
   "execution_count": 47,
   "metadata": {},
   "outputs": [
    {
     "data": {
      "text/plain": [
       "LinearSVR(C=10, epsilon=0.1)"
      ]
     },
     "execution_count": 47,
     "metadata": {},
     "output_type": "execute_result"
    }
   ],
   "source": [
    "grid.best_estimator_"
   ]
  },
  {
   "cell_type": "code",
   "execution_count": 48,
   "metadata": {},
   "outputs": [
    {
     "data": {
      "text/plain": [
       "0.6827159871789266"
      ]
     },
     "execution_count": 48,
     "metadata": {},
     "output_type": "execute_result"
    }
   ],
   "source": [
    "grid.best_score_"
   ]
  },
  {
   "cell_type": "code",
   "execution_count": 49,
   "metadata": {},
   "outputs": [
    {
     "data": {
      "text/plain": [
       "{'C': 10, 'epsilon': 0.1}"
      ]
     },
     "execution_count": 49,
     "metadata": {},
     "output_type": "execute_result"
    }
   ],
   "source": [
    "grid.best_params_"
   ]
  },
  {
   "cell_type": "code",
   "execution_count": 50,
   "metadata": {},
   "outputs": [
    {
     "data": {
      "text/plain": [
       "GridSearchCV(cv=3, estimator=BayesianRidge(), n_jobs=-1,\n",
       "             param_grid={'alpha_1': array([1.00000000e-13, 7.74263683e-13, 5.99484250e-12, 4.64158883e-11,\n",
       "       3.59381366e-10, 2.78255940e-09, 2.15443469e-08, 1.66810054e-07,\n",
       "       1.29154967e-06, 1.00000000e-05]),\n",
       "                         'alpha_2': array([1.00000000e-09, 4.64158883e-09, 2.15443469e-08, 1.00000000e-07,\n",
       "       4.64158883e-07, 2.15443469e-06, 1.000000...\n",
       "       2.15443469e-04, 1.00000000e-03]),\n",
       "                         'lambda_1': array([1.00000000e-10, 3.59381366e-10, 1.29154967e-09, 4.64158883e-09,\n",
       "       1.66810054e-08, 5.99484250e-08, 2.15443469e-07, 7.74263683e-07,\n",
       "       2.78255940e-06, 1.00000000e-05]),\n",
       "                         'lambda_2': array([1.00000000e-11, 5.99484250e-11, 3.59381366e-10, 2.15443469e-09,\n",
       "       1.29154967e-08, 7.74263683e-08, 4.64158883e-07, 2.78255940e-06,\n",
       "       1.66810054e-05, 1.00000000e-04])})"
      ]
     },
     "execution_count": 50,
     "metadata": {},
     "output_type": "execute_result"
    }
   ],
   "source": [
    "parameters = {\"alpha_1\": np.logspace(-13,-5,10),\n",
    "              \"alpha_2\": np.logspace(-9,-3,10),\n",
    "              \"lambda_1\": np.logspace(-10,-5,10),\n",
    "              \"lambda_2\": np.logspace(-11,-4,10)}\n",
    "\n",
    "grid_regr = GridSearchCV(BayesianRidge(), parameters, cv=3, n_jobs=-1)\n",
    "grid_regr.fit(x.reshape(-1, 1), y)    "
   ]
  },
  {
   "cell_type": "code",
   "execution_count": 51,
   "metadata": {},
   "outputs": [
    {
     "data": {
      "text/plain": [
       "BayesianRidge(alpha_1=1e-13, alpha_2=0.001, lambda_1=1e-05, lambda_2=1e-11)"
      ]
     },
     "execution_count": 51,
     "metadata": {},
     "output_type": "execute_result"
    }
   ],
   "source": [
    "grid_regr.best_estimator_"
   ]
  },
  {
   "cell_type": "code",
   "execution_count": 52,
   "metadata": {},
   "outputs": [
    {
     "data": {
      "text/plain": [
       "0.7662762307971316"
      ]
     },
     "execution_count": 52,
     "metadata": {},
     "output_type": "execute_result"
    }
   ],
   "source": [
    "grid_regr.best_score_"
   ]
  },
  {
   "cell_type": "code",
   "execution_count": 53,
   "metadata": {},
   "outputs": [
    {
     "data": {
      "text/plain": [
       "{'alpha_1': 1e-13, 'alpha_2': 0.001, 'lambda_1': 1e-05, 'lambda_2': 1e-11}"
      ]
     },
     "execution_count": 53,
     "metadata": {},
     "output_type": "execute_result"
    }
   ],
   "source": [
    "grid_regr.best_params_"
   ]
  },
  {
   "cell_type": "code",
   "execution_count": 55,
   "metadata": {},
   "outputs": [],
   "source": [
    "reg = BayesianRidge(fit_intercept=True, alpha_1=1e-05, alpha_2=1e-09, lambda_1=1e-10, lambda_2=0.0001).fit(x.reshape(-1, 1), y.reshape(-1, 1))\n",
    "y_tt = reg.predict(x.reshape(-1, 1))\n",
    "\n",
    "lin_SVR = LinearSVR(C=1.0, max_iter=10000, epsilon=1.0)\n",
    "lin_SVR.fit(x.reshape(-1, 1), y)\n",
    "predict = lin_SVR.predict(x.reshape(-1, 1))\n",
    "\n",
    "dec_tree = DecisionTreeRegressor(random_state=1, max_depth=3)\n",
    "dec_tree.fit(data, data[\"Chance of Admit \"])\n",
    "dec_predict = dec_tree.predict(data)"
   ]
  },
  {
   "cell_type": "code",
   "execution_count": 190,
   "metadata": {},
   "outputs": [
    {
     "name": "stdout",
     "output_type": "stream",
     "text": [
      "Метрики для линейной модели:\n",
      "\n",
      "Средняя абсолютная ошибка:  2.5508292802546\n",
      "Средняя квадратичная ошибка:  10.512794897173503\n",
      "Коэффициент детерминации:  0.6118698089221382\n",
      "\n",
      "\n",
      "Метрики для SVM-модели:\n",
      "\n",
      "Средняя абсолютная ошибка:  2.5996867264932724\n",
      "Средняя квадратичная ошибка:  11.18839596468356\n",
      "Коэффициент детерминации:  0.586926758668624\n",
      "\n",
      "\n",
      "Метрики для Decision Tree:\n",
      "\n",
      "Средняя абсолютная ошибка:  0.7095532407407409\n",
      "Средняя квадратичная ошибка:  0.7222188657407407\n",
      "Коэффициент детерминации:  0.9733358303760538\n"
     ]
    }
   ],
   "source": [
    "print(\"Метрики для линейной модели:\\n\")\n",
    "print(\"Средняя абсолютная ошибка: \", mean_absolute_error(y, y_tt))\n",
    "print(\"Средняя квадратичная ошибка: \", mean_squared_error(y, y_tt))\n",
    "print(\"Коэффициент детерминации: \", r2_score(y, y_tt))\n",
    "\n",
    "print(\"\\n\\nМетрики для SVM-модели:\\n\")\n",
    "print(\"Средняя абсолютная ошибка: \", mean_absolute_error(y, predict))\n",
    "print(\"Средняя квадратичная ошибка: \", mean_squared_error(y, predict))\n",
    "print(\"Коэффициент детерминации: \", r2_score(y, predict))\n",
    "\n",
    "\n",
    "print(\"\\n\\nМетрики для Decision Tree:\\n\")\n",
    "print(\"Средняя абсолютная ошибка: \", mean_absolute_error(y, dec_predict))\n",
    "print(\"Средняя квадратичная ошибка: \", mean_squared_error(y, dec_predict))\n",
    "print(\"Коэффициент детерминации: \", r2_score(y, dec_predict))"
   ]
  },
  {
   "cell_type": "markdown",
   "metadata": {},
   "source": [
    "## После подбора параметров модели показали лучший результат, чем без подбора."
   ]
  }
 ],
 "metadata": {
  "authors": [
   {
    "name": "Зубаиров Валерий Альбертович"
   }
  ],
  "group": "ИУ5-24М",
  "kernelspec": {
   "display_name": "Python 3",
   "language": "python",
   "name": "python3"
  },
  "lab_number": 5,
  "language_info": {
   "codemirror_mode": {
    "name": "ipython",
    "version": 3
   },
   "file_extension": ".py",
   "mimetype": "text/x-python",
   "name": "python",
   "nbconvert_exporter": "python",
   "pygments_lexer": "ipython3",
   "version": "3.6.5"
  },
  "title": "Линейные модели, SVM и деревья решений."
 },
 "nbformat": 4,
 "nbformat_minor": 4
}
